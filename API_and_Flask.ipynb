{
  "nbformat": 4,
  "nbformat_minor": 0,
  "metadata": {
    "colab": {
      "provenance": []
    },
    "kernelspec": {
      "name": "python3",
      "display_name": "Python 3"
    },
    "language_info": {
      "name": "python"
    }
  },
  "cells": [
    {
      "cell_type": "markdown",
      "source": [
        "# Restful API and Flask"
      ],
      "metadata": {
        "id": "cZmNaXoV1idZ"
      }
    },
    {
      "cell_type": "markdown",
      "source": [
        "1.  What is a RESTful API?\n",
        "    - A RESTful API (Representational State Transfer API) is a web service that uses HTTP methods (like GET, POST, PUT, DELETE) to perform operations on resources, typically represented in JSON or XML. It's stateless, meaning each request is independent and contains all the information needed to process it."
      ],
      "metadata": {
        "id": "oBzorKqk1pvd"
      }
    },
    {
      "cell_type": "markdown",
      "source": [
        "2.  Explain the concept of API specification.\n",
        "    - An API specification is a detailed document or standard that defines how an API works. It outlines the endpoints, methods, request/response formats, parameters, authentication, and error codes. It acts as a contract between the API provider and the user, ensuring consistency and proper integration.\n",
        "\n",
        "\n",
        "\n",
        "\n",
        "\n",
        "\n",
        "\n",
        "\n",
        "\n"
      ],
      "metadata": {
        "id": "YC1ZFg482HyK"
      }
    },
    {
      "cell_type": "markdown",
      "source": [
        "3.  What is Flask, and why is it popular for building APIs?\n",
        "    - Flask is a lightweight and flexible Python web framework used to build web applications and APIs.\n",
        "\n",
        "Why it's popular for APIs:\n",
        "\n",
        "Simple and easy to learn\n",
        "\n",
        "Minimal setup required\n",
        "\n",
        "Supports extensions and customization\n",
        "\n",
        "Great for building RESTful APIs quickly\n",
        "\n",
        "Ideal for small to medium-sized projects\n",
        "\n",
        "\n",
        "\n",
        "\n",
        "\n",
        "\n",
        "\n",
        "\n",
        "\n"
      ],
      "metadata": {
        "id": "3vpxpDcB2RAs"
      }
    },
    {
      "cell_type": "markdown",
      "source": [
        "4. What is routing in Flask?\n",
        "  - Routing in Flask is the process of mapping a URL path to a specific function (called a view function). It tells Flask what code to run when a user visits a particular URL."
      ],
      "metadata": {
        "id": "JujnsJbp2cmt"
      }
    },
    {
      "cell_type": "markdown",
      "source": [
        "5. How do you create a simple Flask application?\n",
        "   - 1. install flask"
      ],
      "metadata": {
        "id": "Q9LbD8nu2oJy"
      }
    },
    {
      "cell_type": "code",
      "execution_count": null,
      "metadata": {
        "id": "MOK9I6h_1ECs"
      },
      "outputs": [],
      "source": [
        "pip install flask\n"
      ]
    },
    {
      "cell_type": "markdown",
      "source": [
        "2. write the app"
      ],
      "metadata": {
        "id": "jfUSK1lP3GMU"
      }
    },
    {
      "cell_type": "code",
      "source": [
        "from flask import Flask\n",
        "\n",
        "app = Flask(__name__)\n",
        "\n",
        "@app.route('/')\n",
        "def home():\n",
        "    return \"Hello, Flask!\"\n",
        "\n",
        "if __name__ == '__main__':\n",
        "    app.run(debug=True)\n"
      ],
      "metadata": {
        "id": "em4bLT0-3IZF"
      },
      "execution_count": null,
      "outputs": []
    },
    {
      "cell_type": "markdown",
      "source": [
        "3. run the app"
      ],
      "metadata": {
        "id": "XVtaff_43K40"
      }
    },
    {
      "cell_type": "code",
      "source": [
        "python app.py\n"
      ],
      "metadata": {
        "id": "Yi11piVh3Paw"
      },
      "execution_count": null,
      "outputs": []
    },
    {
      "cell_type": "markdown",
      "source": [
        "6.  What are HTTP methods used in RESTful APIs?\n",
        "    - Common HTTP methods used in RESTful APIs:\n",
        "\n",
        "GET – Retrieve data\n",
        "\n",
        "POST – Create new data\n",
        "\n",
        "PUT – Update existing data\n",
        "\n",
        "DELETE – Remove data\n",
        "\n",
        "PATCH – Partially update data\n",
        "\n",
        "OPTIONS – Describe allowed operations on a resource"
      ],
      "metadata": {
        "id": "lN91evDh3QcV"
      }
    },
    {
      "cell_type": "markdown",
      "source": [
        "7.  What is the purpose of the @app.route() decorator in Flask?\n",
        "   - The @app.route() decorator in Flask is used to define a route (URL) and link it to a specific function. It tells Flask which function to run when a user accesses a certain URL."
      ],
      "metadata": {
        "id": "Ibfwc2C83bLH"
      }
    },
    {
      "cell_type": "markdown",
      "source": [
        "8.  What is the difference between GET and POST HTTP methods?\n",
        "    - GET vs POST HTTP methods:\n",
        "\n",
        "GET:\n",
        "\n",
        "Used to retrieve data\n",
        "\n",
        "Parameters sent in the URL\n",
        "\n",
        "Not secure for sensitive data\n",
        "\n",
        "Can be bookmarked and cached\n",
        "\n",
        "POST:\n",
        "\n",
        "Used to submit or create data\n",
        "\n",
        "Parameters sent in the body of the request\n",
        "\n",
        "More secure for sensitive data\n",
        "\n",
        "Not cached or bookmarked\n",
        "\n",
        "\n",
        "\n",
        "\n",
        "\n",
        "\n",
        "\n",
        "\n",
        "\n"
      ],
      "metadata": {
        "id": "FCp3v1Fl3kvf"
      }
    },
    {
      "cell_type": "markdown",
      "source": [
        "9.  How do you handle errors in Flask APIs?\n",
        "    - In Flask APIs, errors are handled using:\n",
        "\n",
        "try-except blocks for catching exceptions.\n",
        "\n",
        "@app.errorhandler() decorator to define custom error responses (e.g., for 404 or 500 errors).\n",
        "\n",
        "Flask's abort() function to return specific HTTP error codes."
      ],
      "metadata": {
        "id": "eT0J2NdV3viY"
      }
    },
    {
      "cell_type": "markdown",
      "source": [
        "10.  How do you connect Flask to a SQL database?\n",
        "     - Install Flask-SQLAlchemy\n",
        "\n",
        "Set SQLALCHEMY_DATABASE_URI in app.config\n",
        "\n",
        "Initialize with db = SQLAlchemy(app)\n",
        "\n",
        "Define models and use db.session to query or update data."
      ],
      "metadata": {
        "id": "XzcuVM9p40vd"
      }
    },
    {
      "cell_type": "markdown",
      "source": [
        "11.  What is the role of Flask-SQLAlchemy?\n",
        "    - Flask-SQLAlchemy simplifies database integration in Flask by providing an ORM (Object Relational Mapper) to interact with SQL databases using Python classes."
      ],
      "metadata": {
        "id": "zU_9CfJC5BT9"
      }
    },
    {
      "cell_type": "markdown",
      "source": [
        "12. What are Flask blueprints, and how are they useful?\n",
        "   - Flask Blueprints help organize code by grouping routes, views, and static files into reusable modules, making large applications easier to manage and scale."
      ],
      "metadata": {
        "id": "KOSVH25j5KQQ"
      }
    },
    {
      "cell_type": "markdown",
      "source": [
        "13.  What is the purpose of Flask's request object?\n",
        "     - Flask's request object is used to access data from incoming HTTP requests, like form data, JSON, headers, and query parameters."
      ],
      "metadata": {
        "id": "1m8MBFuS5S81"
      }
    },
    {
      "cell_type": "markdown",
      "source": [
        "14.  How do you create a RESTful API endpoint using Flask?\n",
        "     - Import Flask\n",
        "\n",
        "Create an app: app = Flask(__name__)\n",
        "\n",
        "Define route with methods:"
      ],
      "metadata": {
        "id": "8HHE75j95cjk"
      }
    },
    {
      "cell_type": "code",
      "source": [
        "@app.route('/api/data', methods=['GET'])\n",
        "def get_data():\n",
        "    return {'key': 'value'}\n"
      ],
      "metadata": {
        "id": "Swfk7ebZ5l9R"
      },
      "execution_count": null,
      "outputs": []
    },
    {
      "cell_type": "markdown",
      "source": [
        "Run app: app.run()"
      ],
      "metadata": {
        "id": "Cgdx0nfl5q6A"
      }
    },
    {
      "cell_type": "markdown",
      "source": [
        "15.  What is the purpose of Flask's jsonify() function?\n",
        "    - Flask’s jsonify() function converts Python data (like dicts or lists) into a JSON response with the correct MIME type (application/json)."
      ],
      "metadata": {
        "id": "7JRO_bL-5r-W"
      }
    },
    {
      "cell_type": "markdown",
      "source": [
        "16.  Explain Flask’s url_for() function.\n",
        "     - Flask’s url_for() generates a URL for a given function name, making links dynamic and avoiding hardcoding URLs."
      ],
      "metadata": {
        "id": "fogNyNae52G-"
      }
    },
    {
      "cell_type": "markdown",
      "source": [
        "17. How does Flask handle static files (CSS, JavaScript, etc.) ?\n",
        "   - Flask serves static files from the static/ folder by default. You can access them in templates using url_for('static', filename='style.css').\n",
        ""
      ],
      "metadata": {
        "id": "RmnzsHSW591Y"
      }
    },
    {
      "cell_type": "markdown",
      "source": [
        "18. What is an API specification, and how does it help in building a Flask API?\n",
        "   - An API specification defines how an API works—its endpoints, request/response formats, and methods. It helps in building Flask APIs by serving as a clear blueprint for development, testing, and integration."
      ],
      "metadata": {
        "id": "Z_9UUidW6IhD"
      }
    },
    {
      "cell_type": "markdown",
      "source": [
        "19. What are HTTP status codes, and why are they important in a Flask API?\n",
        "    - HTTP status codes indicate the result of a request (e.g., 200 for success, 404 for not found). They are important in Flask APIs to inform clients about the outcome of their requests.\n",
        "\n",
        "\n",
        "\n",
        "\n",
        "\n",
        "\n",
        "\n",
        "\n",
        "\n"
      ],
      "metadata": {
        "id": "6jscLTu562dQ"
      }
    },
    {
      "cell_type": "markdown",
      "source": [
        "20.  How do you handle POST requests in Flask?\n",
        "    - Use @app.route() with methods=['POST'], and access data with request.form or request.json.\n",
        "\n",
        "Example:\n"
      ],
      "metadata": {
        "id": "qh2WeO487JAu"
      }
    },
    {
      "cell_type": "code",
      "source": [
        "@app.route('/submit', methods=['POST'])\n",
        "def submit():\n",
        "    data = request.json\n",
        "    return jsonify(data)\n"
      ],
      "metadata": {
        "id": "nsri5VHg7cK9"
      },
      "execution_count": null,
      "outputs": []
    },
    {
      "cell_type": "markdown",
      "source": [
        "21.  How would you secure a Flask API?\n",
        "     - To secure a Flask API:\n",
        "\n",
        "Use HTTPS\n",
        "\n",
        "Implement authentication (e.g., JWT, API keys)\n",
        "\n",
        "Validate and sanitize input\n",
        "\n",
        "Use Flask extensions like Flask-JWT or Flask-Login\n",
        "\n",
        "Handle errors properly\n",
        "\n",
        "Limit request rates (rate limiting)"
      ],
      "metadata": {
        "id": "XzlJBH007efD"
      }
    },
    {
      "cell_type": "markdown",
      "source": [
        "22.  What is the significance of the Flask-RESTful extension?\n",
        "     - Flask-RESTful simplifies building REST APIs by providing tools like resource classes, request parsing, and automatic response formatting. It makes API development cleaner and more structured."
      ],
      "metadata": {
        "id": "EnTBVjc-7tRY"
      }
    },
    {
      "cell_type": "markdown",
      "source": [
        "23.  What is the role of Flask’s session object?\n",
        "     - Flask’s session object stores user-specific data (like login info) across requests using secure cookies."
      ],
      "metadata": {
        "id": "CbyX39F371dA"
      }
    },
    {
      "cell_type": "markdown",
      "source": [
        "#Practical Questions"
      ],
      "metadata": {
        "id": "_VSLnQUM8CL0"
      }
    },
    {
      "cell_type": "markdown",
      "source": [
        "1.  How do you create a basic Flask application?"
      ],
      "metadata": {
        "id": "H3q7OJ1a8Gyk"
      }
    },
    {
      "cell_type": "markdown",
      "source": [
        "Import Flask\n",
        "\n",
        "Create app: app = Flask(__name__)\n",
        "\n",
        "Define route:"
      ],
      "metadata": {
        "id": "bkwl06_38Vgy"
      }
    },
    {
      "cell_type": "code",
      "source": [
        "@app.route('/')\n",
        "def home():\n",
        "    return 'Hello, Flask!'\n",
        "\n"
      ],
      "metadata": {
        "id": "oiKpyj6U8MIw"
      },
      "execution_count": null,
      "outputs": []
    },
    {
      "cell_type": "markdown",
      "source": [
        "2.  How do you serve static files like images or CSS in Flask?\n",
        "    - Place files in the static/ folder and access them with:"
      ],
      "metadata": {
        "id": "agezoLwk8dQR"
      }
    },
    {
      "cell_type": "code",
      "source": [
        "<link rel=\"stylesheet\" href=\"{{ url_for('static', filename='style.css') }}\">\n"
      ],
      "metadata": {
        "id": "X1WT8-Nz8md1"
      },
      "execution_count": null,
      "outputs": []
    },
    {
      "cell_type": "markdown",
      "source": [
        "Flask automatically serves files from the static/ directory."
      ],
      "metadata": {
        "id": "XkR2ztg98qbc"
      }
    },
    {
      "cell_type": "markdown",
      "source": [
        "3.  How do you define different routes with different HTTP methods in Flask?\n",
        "   - Use @app.route() with the methods argument:"
      ],
      "metadata": {
        "id": "Y8y5JbGc8ro4"
      }
    },
    {
      "cell_type": "code",
      "source": [
        "@app.route('/data', methods=['GET', 'POST'])\n",
        "def handle_data():\n",
        "    if request.method == 'GET':\n",
        "        return 'GET request'\n",
        "    elif request.method == 'POST':\n",
        "        return 'POST request'\n"
      ],
      "metadata": {
        "id": "1zhau8PL84R5"
      },
      "execution_count": null,
      "outputs": []
    },
    {
      "cell_type": "markdown",
      "source": [
        "4.  How do you render HTML templates in Flask?"
      ],
      "metadata": {
        "id": "z2tOVL9B85da"
      }
    },
    {
      "cell_type": "code",
      "source": [
        "from flask import render_template\n",
        "\n",
        "@app.route('/')\n",
        "def home():\n",
        "    return render_template('index.html')\n"
      ],
      "metadata": {
        "id": "1LgvRESt9Ayq"
      },
      "execution_count": null,
      "outputs": []
    },
    {
      "cell_type": "markdown",
      "source": [
        "5.  How can you generate URLs for routes in Flask using url_for?\n"
      ],
      "metadata": {
        "id": "hV0nosCe9BqG"
      }
    },
    {
      "cell_type": "code",
      "source": [
        "url_for('home')  # If you have @app.route('/') def home(): ...\n"
      ],
      "metadata": {
        "id": "3jQJqky39Ivi"
      },
      "execution_count": null,
      "outputs": []
    },
    {
      "cell_type": "markdown",
      "source": [
        "6.  How do you handle forms in Flask?\n",
        "    - Create an HTML form with method=\"POST\"\n",
        "\n",
        "Use @app.route(..., methods=['GET', 'POST'])\n",
        "\n",
        "Access form data using request.form\n",
        "\n",
        "Example:"
      ],
      "metadata": {
        "id": "1fGue4HT9M07"
      }
    },
    {
      "cell_type": "code",
      "source": [
        "@app.route('/submit', methods=['POST'])\n",
        "def submit():\n",
        "    name = request.form['name']\n",
        "    return f'Hello, {name}'\n"
      ],
      "metadata": {
        "id": "Vt1tV5Io9Uoi"
      },
      "execution_count": null,
      "outputs": []
    },
    {
      "cell_type": "markdown",
      "source": [
        "7.  How can you validate form data in Flask?\n",
        "    - You can validate form data in Flask using:\n",
        "\n",
        "Manual checks:\n",
        "\n"
      ],
      "metadata": {
        "id": "M3hL3HqI9W18"
      }
    },
    {
      "cell_type": "code",
      "source": [
        "if not request.form['name']:\n",
        "    return 'Name is required'\n"
      ],
      "metadata": {
        "id": "mGNk09Z69vLr"
      },
      "execution_count": null,
      "outputs": []
    },
    {
      "cell_type": "markdown",
      "source": [
        "8.  How do you manage sessions in Flask?\n",
        "    - In Flask, sessions are managed using the session object:\n",
        "\n",
        "Set a secret key:"
      ],
      "metadata": {
        "id": "janbMQwy9wCu"
      }
    },
    {
      "cell_type": "code",
      "source": [
        "app.secret_key = 'your_secret_key'\n"
      ],
      "metadata": {
        "id": "qsSxc3qK95u2"
      },
      "execution_count": null,
      "outputs": []
    },
    {
      "cell_type": "markdown",
      "source": [
        "Store data:"
      ],
      "metadata": {
        "id": "lWJaE6WA96f3"
      }
    },
    {
      "cell_type": "code",
      "source": [
        "session['username'] = 'Palak'\n"
      ],
      "metadata": {
        "id": "taaGOca999Ff"
      },
      "execution_count": null,
      "outputs": []
    },
    {
      "cell_type": "markdown",
      "source": [
        "Access data:"
      ],
      "metadata": {
        "id": "LxWhIPpi9_pZ"
      }
    },
    {
      "cell_type": "code",
      "source": [
        "user = session.get('username')\n"
      ],
      "metadata": {
        "id": "MRNo7brx-CY3"
      },
      "execution_count": null,
      "outputs": []
    },
    {
      "cell_type": "markdown",
      "source": [
        "\n",
        "Remove data:"
      ],
      "metadata": {
        "id": "UvBc8Hx--ErI"
      }
    },
    {
      "cell_type": "code",
      "source": [
        "session.pop('username', None)\n"
      ],
      "metadata": {
        "id": "a1han25q-NF9"
      },
      "execution_count": null,
      "outputs": []
    },
    {
      "cell_type": "markdown",
      "source": [
        "9.  How do you redirect to a different route in Flask?\n"
      ],
      "metadata": {
        "id": "cR27aogU-VLW"
      }
    },
    {
      "cell_type": "code",
      "source": [
        "from flask import redirect, url_for\n",
        "\n",
        "@app.route('/login')\n",
        "def login():\n",
        "    return redirect(url_for('home'))\n"
      ],
      "metadata": {
        "id": "csA1Fg1d-f-m"
      },
      "execution_count": null,
      "outputs": []
    },
    {
      "cell_type": "markdown",
      "source": [
        "10.  How do you handle errors in Flask (e.g., 404)?"
      ],
      "metadata": {
        "id": "Dj_4RXkn-RC5"
      }
    },
    {
      "cell_type": "code",
      "source": [
        "@app.errorhandler(404)\n",
        "def not_found(e):\n",
        "    return 'Page not found', 404\n"
      ],
      "metadata": {
        "id": "KtNXvnmH-qKH"
      },
      "execution_count": null,
      "outputs": []
    },
    {
      "cell_type": "markdown",
      "source": [
        "11.  How do you structure a Flask app using Blueprints?\n",
        "    - Create a Blueprint in a separate file:"
      ],
      "metadata": {
        "id": "gZvGEvLv-rEi"
      }
    },
    {
      "cell_type": "code",
      "source": [
        "from flask import Blueprint\n",
        "\n",
        "my_blueprint = Blueprint('my_bp', __name__)\n",
        "\n",
        "@my_blueprint.route('/hello')\n",
        "def hello():\n",
        "    return 'Hello from blueprint'\n"
      ],
      "metadata": {
        "id": "HUwFPOh1-1h7"
      },
      "execution_count": null,
      "outputs": []
    },
    {
      "cell_type": "markdown",
      "source": [
        "Register it in the main app:"
      ],
      "metadata": {
        "id": "xHbLNM_--6Fv"
      }
    },
    {
      "cell_type": "code",
      "source": [
        "from my_blueprint_file import my_blueprint\n",
        "\n",
        "app.register_blueprint(my_blueprint, url_prefix='/bp')\n"
      ],
      "metadata": {
        "id": "ySxFKth8-7CF"
      },
      "execution_count": null,
      "outputs": []
    },
    {
      "cell_type": "markdown",
      "source": [
        "12.  How do you define a custom Jinja filter in Flask?\n",
        "    - You can define a custom Jinja filter in Flask like this:\n",
        "\n",
        "Define the filter function:"
      ],
      "metadata": {
        "id": "MvjsDHnS-9XP"
      }
    },
    {
      "cell_type": "code",
      "source": [
        "def reverse_string(s):\n",
        "    return s[::-1]\n"
      ],
      "metadata": {
        "id": "nGKjgMd4_Hg9"
      },
      "execution_count": null,
      "outputs": []
    },
    {
      "cell_type": "markdown",
      "source": [
        "Register it with Flask:"
      ],
      "metadata": {
        "id": "InVwQSiw_J3D"
      }
    },
    {
      "cell_type": "code",
      "source": [
        "app.jinja_env.filters['reverse'] = reverse_string\n"
      ],
      "metadata": {
        "id": "cgYzfcS2_Kia"
      },
      "execution_count": null,
      "outputs": []
    },
    {
      "cell_type": "markdown",
      "source": [
        "Use it in a template:"
      ],
      "metadata": {
        "id": "XhEF3lPv_MwB"
      }
    },
    {
      "cell_type": "code",
      "source": [
        "{{ 'hello' | reverse }}\n"
      ],
      "metadata": {
        "id": "At2Crnjx_PQs"
      },
      "execution_count": null,
      "outputs": []
    },
    {
      "cell_type": "markdown",
      "source": [
        "13.  How can you redirect with query parameters in Flask?\n",
        "    "
      ],
      "metadata": {
        "id": "5ykGMvCK_Rr3"
      }
    },
    {
      "cell_type": "code",
      "source": [
        "from flask import redirect, url_for\n",
        "\n",
        "@app.route('/go')\n",
        "def go():\n",
        "    return redirect(url_for('target', name='Palak'))\n",
        "\n",
        "@app.route('/target')\n",
        "def target():\n",
        "    name = request.args.get('name')\n",
        "    return f'Hello, {name}'\n"
      ],
      "metadata": {
        "id": "SiKj3j2C_ZeO"
      },
      "execution_count": null,
      "outputs": []
    },
    {
      "cell_type": "markdown",
      "source": [
        "14. How do you return JSON responses in Flask?\n",
        ""
      ],
      "metadata": {
        "id": "mbQyz1AR_a50"
      }
    },
    {
      "cell_type": "code",
      "source": [
        "from flask import jsonify\n",
        "\n",
        "@app.route('/data')\n",
        "def data():\n",
        "    return jsonify({'name': 'Palak', 'age': 20})\n"
      ],
      "metadata": {
        "id": "JmKbfy6D_h_7"
      },
      "execution_count": null,
      "outputs": []
    },
    {
      "cell_type": "markdown",
      "source": [
        "15. How do you capture URL parameters in Flask?"
      ],
      "metadata": {
        "id": "-BfLv1Aj_i-f"
      }
    },
    {
      "cell_type": "code",
      "source": [
        "@app.route('/user/<username>')\n",
        "def show_user(username):\n",
        "    return f'Hello, {username}'\n"
      ],
      "metadata": {
        "id": "0J7t5Tda_pPD"
      },
      "execution_count": null,
      "outputs": []
    }
  ]
}